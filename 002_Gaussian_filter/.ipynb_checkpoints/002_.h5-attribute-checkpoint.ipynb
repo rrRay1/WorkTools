{
 "cells": [
  {
   "cell_type": "code",
   "execution_count": 1,
   "id": "1ce11a09",
   "metadata": {},
   "outputs": [
    {
     "ename": "SyntaxError",
     "evalue": "invalid syntax (4138901652.py, line 1)",
     "output_type": "error",
     "traceback": [
      "\u001b[0;36m  Cell \u001b[0;32mIn[1], line 1\u001b[0;36m\u001b[0m\n\u001b[0;31m    .h5 attribute\u001b[0m\n\u001b[0m    ^\u001b[0m\n\u001b[0;31mSyntaxError\u001b[0m\u001b[0;31m:\u001b[0m invalid syntax\n"
     ]
    }
   ],
   "source": [
    ".h5 attribute"
   ]
  },
  {
   "cell_type": "code",
   "execution_count": 16,
   "id": "4ba062ea",
   "metadata": {},
   "outputs": [
    {
     "name": "stdout",
     "output_type": "stream",
     "text": [
      "Attributes of dataset DAQ/TufADC:\n",
      "cycle_usec: 1000.0\n",
      "grouptype: ContiDataGroup\n",
      "producer: TUF\n",
      "source: TUF-100 #987 v7\n",
      "streamType: 7\n"
     ]
    }
   ],
   "source": []
  },
  {
   "cell_type": "code",
   "execution_count": 18,
   "id": "85312b51",
   "metadata": {},
   "outputs": [
    {
     "name": "stdout",
     "output_type": "stream",
     "text": [
      "Attributes of DAQ/TufADC/Data/CoilTemp:\n",
      "{'scalingFactor': np.float64(22.864035087719294),\n",
      " 'scalingOffset': np.float64(246.0),\n",
      " 'unit': '℃'}\n"
     ]
    }
   ],
   "source": [
    "from pprint import pprint\n",
    "\n",
    "def print_attributes_pretty(file_name, obj_name):\n",
    "    with h5py.File(file_name, 'r') as file:\n",
    "        obj = file[obj_name]\n",
    "        print(f\"Attributes of {obj_name}:\")\n",
    "        pprint(dict(obj.attrs))\n",
    "\n",
    "# 使用示例\n",
    "file_name = '001_max100dC.h5'  # 替换为你的文件路径\n",
    "obj_name = 'DAQ/TufADC/Data/CoilTemp'  # 替换为具体的数据集路径\n",
    "print_attributes_pretty(file_name, obj_name)\n"
   ]
  }
 ],
 "metadata": {
  "kernelspec": {
   "display_name": "Python 3 (ipykernel)",
   "language": "python",
   "name": "python3"
  },
  "language_info": {
   "codemirror_mode": {
    "name": "ipython",
    "version": 3
   },
   "file_extension": ".py",
   "mimetype": "text/x-python",
   "name": "python",
   "nbconvert_exporter": "python",
   "pygments_lexer": "ipython3",
   "version": "3.12.4"
  }
 },
 "nbformat": 4,
 "nbformat_minor": 5
}
